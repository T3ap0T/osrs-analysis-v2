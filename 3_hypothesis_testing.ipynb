{
 "cells": [
  {
   "cell_type": "code",
   "execution_count": 1,
   "metadata": {},
   "outputs": [],
   "source": [
    "import numpy as np\n",
    "import pandas as pd\n",
    "\n",
    "from statsmodels.stats.weightstats import ttest_ind\n",
    "from statsmodels.stats.proportion import proportions_ztest"
   ]
  },
  {
   "cell_type": "code",
   "execution_count": 2,
   "metadata": {},
   "outputs": [],
   "source": [
    "def get_hits(hit_column):\n",
    "    \"\"\"Get the total number of hits / total number of successful hits\n",
    "    for both weapons\n",
    "    \n",
    "    Args:\n",
    "        hit_column (str): \n",
    "            column containing the hit data \n",
    "            'total_successful_hits' or 'total_hits'\n",
    "        \n",
    "    Returns:\n",
    "        num_hits (array): \n",
    "            total number of (successful) hits for the Event RPG and\n",
    "            Iron Scimitar       \n",
    "    \"\"\"\n",
    "    \n",
    "    num_hits = exp_data[hit_column].to_numpy().reshape(2, -1).max(axis=1)\n",
    "    return num_hits"
   ]
  },
  {
   "cell_type": "code",
   "execution_count": 3,
   "metadata": {},
   "outputs": [],
   "source": [
    "exp_data = pd.read_csv('data/processed_experience_data.csv')"
   ]
  },
  {
   "cell_type": "code",
   "execution_count": 4,
   "metadata": {},
   "outputs": [],
   "source": [
    "num_successes = get_hits('total_successful_hits')\n",
    "num_observations = get_hits('total_hits')"
   ]
  },
  {
   "cell_type": "code",
   "execution_count": 5,
   "metadata": {},
   "outputs": [
    {
     "name": "stdout",
     "output_type": "stream",
     "text": [
      "p-value: 0.0017501372654863242\n",
      "\n",
      "Estimate for p1: 0.19\n",
      "Estimate for p2: 0.215\n"
     ]
    }
   ],
   "source": [
    "ztest_results = proportions_ztest(num_successes, num_observations)\n",
    "p_success = (num_successes / num_observations)\n",
    "print('p-value:', ztest_results[1])\n",
    "print('\\nEstimate for p1:', p_success[0].round(3))\n",
    "print('Estimate for p2:', p_success[1].round(3))"
   ]
  },
  {
   "cell_type": "markdown",
   "metadata": {},
   "source": [
    "Letting $p_{1}$ and $p_{2}$ represent the probability of landing a successful hit when training with the Event RPG and Iron Scimitar respectively, the Z-test tests the following hypotheses: <br>\n",
    "$H_{0}$: $p_{1}$ = $p_{2}$  \n",
    "$H_{1}$: $p_{1}$ ≠ $p_{2}$ <br>\n",
    "\n",
    "Given that the p-value is less than 0.05, we can reject $H_{0}$ in favour of $H_{1}$ which suggests that the probabilities of landing a successful hit when using the Iron Scimitar and Event RPG are different."
   ]
  },
  {
   "cell_type": "markdown",
   "metadata": {},
   "source": [
    "On a side note, the sample proportion (number of successful hits divided by the total number of hits) can be used as unbiased estimators for probabilities $p_{1}$ and $p_{2}$.\n",
    "\n",
    "$\\hat{p}_{1}$ = 0.190 <br>\n",
    "$\\hat{p}_{2}$ = 0.215"
   ]
  },
  {
   "cell_type": "code",
   "execution_count": 6,
   "metadata": {},
   "outputs": [],
   "source": [
    "exp = exp_data['exp_gained'].to_numpy().reshape(2, -1)\n",
    "rpg_exp, scim_exp = exp[0, ], exp[1, ]"
   ]
  },
  {
   "cell_type": "code",
   "execution_count": 7,
   "metadata": {
    "scrolled": true
   },
   "outputs": [
    {
     "name": "stdout",
     "output_type": "stream",
     "text": [
      "p-value: 0.06001573332108156\n"
     ]
    }
   ],
   "source": [
    "ttest_results = ttest_ind(rpg_exp, scim_exp)\n",
    "print('p-value:', ttest_results[1])"
   ]
  },
  {
   "cell_type": "markdown",
   "metadata": {},
   "source": [
    "Letting $u_{1}$ and $u_{2}$ represent the mean experience per 10 minutes when training with the Event RPG and Iron Scimitar respectively, the T-test tests the following hypotheses: <br>\n",
    "$H_{0}$: $u_{1}$ = $u_{2}$  \n",
    "$H_{1}$: $u_{1}$ ≠ $u_{2}$ <br>\n",
    "\n",
    "Since the p-value is greater than 0.05, we cannot reject $H_{0}$."
   ]
  }
 ],
 "metadata": {
  "kernelspec": {
   "display_name": "Python 3",
   "language": "python",
   "name": "python3"
  },
  "language_info": {
   "codemirror_mode": {
    "name": "ipython",
    "version": 3
   },
   "file_extension": ".py",
   "mimetype": "text/x-python",
   "name": "python",
   "nbconvert_exporter": "python",
   "pygments_lexer": "ipython3",
   "version": "3.8.5"
  }
 },
 "nbformat": 4,
 "nbformat_minor": 4
}
