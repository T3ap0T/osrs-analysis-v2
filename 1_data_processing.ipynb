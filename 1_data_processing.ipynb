{
 "cells": [
  {
   "cell_type": "code",
   "execution_count": 1,
   "metadata": {},
   "outputs": [],
   "source": [
    "import matplotlib.pyplot\n",
    "import numpy as np\n",
    "import pandas as pd"
   ]
  },
  {
   "cell_type": "code",
   "execution_count": 2,
   "metadata": {},
   "outputs": [],
   "source": [
    "exp_data = pd.read_csv('data/experience_data.csv')"
   ]
  },
  {
   "cell_type": "code",
   "execution_count": 3,
   "metadata": {},
   "outputs": [],
   "source": [
    "# calculate exp gained within each 10-minute interval\n",
    "total_exp = exp_data['total_exp'].to_numpy()\n",
    "exp_data['exp_gained'] = np.diff(total_exp, prepend=total_exp[0])\n",
    "\n",
    "# calculate cumulative exp for each weapon\n",
    "cumulative_exp = (\n",
    "    exp_data['exp_gained'].to_numpy()\n",
    "    .reshape(2, -1)\n",
    "    .cumsum(axis=1)\n",
    "    .flatten()\n",
    ")\n",
    "exp_data['cumulative_exp_gained'] = cumulative_exp\n",
    "\n",
    "# calculate number of successful hits for every 10 minute interval\n",
    "exp_data['total_successful_hits'] = exp_data['cumulative_exp_gained'] // 4\n",
    "\n",
    "# calculate the total number of hits at each time\n",
    "total_hits = exp_data['time'].to_numpy(copy=True).reshape(2, -1)\n",
    "total_hits[0, :] = total_hits[0, :] * 60 / 1.8 # Event RPG 1.8s delay\n",
    "total_hits[1, :] = total_hits[1, :] * 60 / 2.4 # Iron Scimitar 2.4 delay\n",
    "exp_data['total_hits'] = total_hits.flatten()"
   ]
  },
  {
   "cell_type": "code",
   "execution_count": 4,
   "metadata": {},
   "outputs": [],
   "source": [
    "exp_data.to_csv('data/processed_experience_data.csv', index=False)"
   ]
  }
 ],
 "metadata": {
  "kernelspec": {
   "display_name": "Python 3",
   "language": "python",
   "name": "python3"
  },
  "language_info": {
   "codemirror_mode": {
    "name": "ipython",
    "version": 3
   },
   "file_extension": ".py",
   "mimetype": "text/x-python",
   "name": "python",
   "nbconvert_exporter": "python",
   "pygments_lexer": "ipython3",
   "version": "3.8.5"
  }
 },
 "nbformat": 4,
 "nbformat_minor": 4
}
