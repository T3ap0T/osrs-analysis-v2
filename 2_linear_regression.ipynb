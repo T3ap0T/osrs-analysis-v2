{
 "cells": [
  {
   "cell_type": "code",
   "execution_count": 1,
   "metadata": {},
   "outputs": [],
   "source": [
    "import matplotlib.pyplot as plt\n",
    "import numpy as np\n",
    "import pandas as pd\n",
    "import seaborn as sns\n",
    "import statsmodels.api as sm"
   ]
  },
  {
   "cell_type": "code",
   "execution_count": 2,
   "metadata": {},
   "outputs": [],
   "source": [
    "def calculate_hours_required(initial_exp, final_exp, exp_per_hour):\n",
    "    \"\"\"Calculate the number of hours required to reach final_exp\n",
    "    \n",
    "    Args:\n",
    "        final_exp (int): Final defence experience\n",
    "        initial_exp (int): Initial defence experience\n",
    "        exp_per_hour (float): Defence experience per hour\n",
    "    \n",
    "    Returns:\n",
    "        hours_required (float): \n",
    "            hours required to reach final_exp, rounded to the nearest hour\n",
    "    \"\"\"\n",
    "    \n",
    "    exp_required = final_exp - initial_exp\n",
    "    hours_required = round(exp_required / exp_per_hour, 0)\n",
    "    return hours_required"
   ]
  },
  {
   "cell_type": "code",
   "execution_count": 3,
   "metadata": {},
   "outputs": [],
   "source": [
    "exp_data = pd.read_csv('data/processed_experience_data.csv')"
   ]
  },
  {
   "cell_type": "code",
   "execution_count": 4,
   "metadata": {},
   "outputs": [],
   "source": [
    "X = exp_data['time'].unique()\n",
    "\n",
    "cumulative_exp = exp_data['cumulative_exp_gained'].to_numpy().reshape(2, -1)\n",
    "y_rpg, y_scim = cumulative_exp[0, ], cumulative_exp[1, ]"
   ]
  },
  {
   "cell_type": "code",
   "execution_count": 5,
   "metadata": {
    "collapsed": true
   },
   "outputs": [
    {
     "name": "stderr",
     "output_type": "stream",
     "text": [
      "c:\\users\\user\\appdata\\local\\programs\\python\\python38\\lib\\site-packages\\scipy\\stats\\stats.py:1534: UserWarning: kurtosistest only valid for n>=20 ... continuing anyway, n=19\n",
      "  warnings.warn(\"kurtosistest only valid for n>=20 ... continuing \"\n",
      "c:\\users\\user\\appdata\\local\\programs\\python\\python38\\lib\\site-packages\\scipy\\stats\\stats.py:1534: UserWarning: kurtosistest only valid for n>=20 ... continuing anyway, n=19\n",
      "  warnings.warn(\"kurtosistest only valid for n>=20 ... continuing \"\n"
     ]
    }
   ],
   "source": [
    "X = sm.add_constant(X)\n",
    "\n",
    "sm_rpg_regressor = sm.OLS(endog=y_rpg, exog=X)\n",
    "rpg_results = sm_rpg_regressor.fit()\n",
    "rpg_summary = rpg_results.summary()\n",
    "\n",
    "sm_scim_regressor = sm.OLS(endog=y_scim, exog=X)\n",
    "scim_results = sm_scim_regressor.fit()\n",
    "scim_summary = scim_results.summary()"
   ]
  },
  {
   "cell_type": "code",
   "execution_count": 6,
   "metadata": {},
   "outputs": [
    {
     "name": "stdout",
     "output_type": "stream",
     "text": [
      "Event RPG Regression Results:\n",
      "==============================================================================\n",
      "                 coef    std err          t      P>|t|      [0.025      0.975]\n",
      "------------------------------------------------------------------------------\n",
      "const         -3.8737     12.430     -0.312      0.759     -30.098      22.351\n",
      "x1            25.3109      0.118    214.541      0.000      25.062      25.560\n",
      "==============================================================================\n",
      "\n",
      "Iron Scimitar Regression Results:\n",
      "==============================================================================\n",
      "                 coef    std err          t      P>|t|      [0.025      0.975]\n",
      "------------------------------------------------------------------------------\n",
      "const         18.3579     10.050      1.827      0.085      -2.845      39.561\n",
      "x1            21.2533      0.095    222.815      0.000      21.052      21.455\n",
      "==============================================================================\n"
     ]
    }
   ],
   "source": [
    "print('Event RPG Regression Results:\\n{0}\\n'.format(rpg_summary.tables[1]))\n",
    "print('Iron Scimitar Regression Results:\\n{0}'.format(scim_summary.tables[1]))"
   ]
  },
  {
   "cell_type": "markdown",
   "metadata": {},
   "source": [
    "The slopes (x1) along with their confidence intervals suggest that training with the Event RPG results in 25 experience per minute while training with the Iron Scimitar results in 21 experience per minute."
   ]
  },
  {
   "cell_type": "code",
   "execution_count": 7,
   "metadata": {},
   "outputs": [
    {
     "data": {
      "image/png": "[encoded data removed]",
      "text/plain": [
       "<Figure size 459.5x360 with 1 Axes>"
      ]
     },
     "metadata": {
      "needs_background": "light"
     },
     "output_type": "display_data"
    }
   ],
   "source": [
    "experience_regplot = sns.lmplot(\n",
    "    x='time', \n",
    "    y='cumulative_exp_gained', \n",
    "    data=exp_data, \n",
    "    hue='weapon'\n",
    ")\n",
    "experience_regplot.set(\n",
    "    title='Time vs. Cumulative Defence Experience gained',\n",
    "    xlabel='Time (min)',\n",
    "    ylabel='Cumulative Exp Gained'\n",
    ")\n",
    "plt.ylim(0, )\n",
    "plt.show()"
   ]
  },
  {
   "cell_type": "code",
   "execution_count": 8,
   "metadata": {},
   "outputs": [
    {
     "name": "stdout",
     "output_type": "stream",
     "text": [
      "Event RPG Exp/Hour: 1519.0\n",
      "Iron Scimitar Exp/Hour: 1275.0\n"
     ]
    }
   ],
   "source": [
    "rpg_hourly_exp = round(rpg_results.params[1] * 60, 0)\n",
    "scim_hourly_exp = round(scim_results.params[1] * 60, 0)\n",
    "\n",
    "print('Event RPG Exp/Hour:', rpg_hourly_exp)\n",
    "print('Iron Scimitar Exp/Hour:', scim_hourly_exp)"
   ]
  },
  {
   "cell_type": "markdown",
   "metadata": {},
   "source": [
    "The graph and experience rates suggest that training with the Event RPG results in more experience per hour."
   ]
  },
  {
   "cell_type": "code",
   "execution_count": 9,
   "metadata": {},
   "outputs": [
    {
     "name": "stdout",
     "output_type": "stream",
     "text": [
      "Hours required to reach level 75 Defence\n",
      "Event RPG: 709.0\n",
      "Iron Scimitar: 844.0\n"
     ]
    }
   ],
   "source": [
    "initial_exp = exp_data['total_exp'].max()\n",
    "final_exp = 1210421 # Experience required to reach level 75 \n",
    "\n",
    "rpg_hours = calculate_hours_required(initial_exp, final_exp, rpg_hourly_exp)\n",
    "scim_hours = calculate_hours_required(initial_exp, final_exp, scim_hourly_exp)\n",
    "\n",
    "print('Hours required to reach level 75 Defence')\n",
    "print('Event RPG:', rpg_hours)\n",
    "print('Iron Scimitar:', scim_hours)"
   ]
  },
  {
   "cell_type": "markdown",
   "metadata": {},
   "source": [
    "Based on the experience rates, it requires approximately 709 hours to reach level 75 Defence using the Event RPG compared to 844 when using the Iron Scimitar."
   ]
  },
  {
   "cell_type": "code",
   "execution_count": 10,
   "metadata": {},
   "outputs": [
    {
     "name": "stdout",
     "output_type": "stream",
     "text": [
      "\n",
      "Difference in hours required: 135.0\n"
     ]
    }
   ],
   "source": [
    "hours_difference = scim_hours - rpg_hours\n",
    "print('\\nDifference in hours required:', hours_difference)"
   ]
  },
  {
   "cell_type": "markdown",
   "metadata": {},
   "source": [
    "This saves an estimated 135 hours "
   ]
  }
 ],
 "metadata": {
  "kernelspec": {
   "display_name": "Python 3",
   "language": "python",
   "name": "python3"
  },
  "language_info": {
   "codemirror_mode": {
    "name": "ipython",
    "version": 3
   },
   "file_extension": ".py",
   "mimetype": "text/x-python",
   "name": "python",
   "nbconvert_exporter": "python",
   "pygments_lexer": "ipython3",
   "version": "3.8.5"
  }
 },
 "nbformat": 4,
 "nbformat_minor": 4
}
